{
  "nbformat": 4,
  "nbformat_minor": 0,
  "metadata": {
    "colab": {
      "name": "Deployment model ",
      "provenance": [],
      "collapsed_sections": [],
      "authorship_tag": "ABX9TyNgoBe3FGgl3uArqzSk8MtE",
      "include_colab_link": true
    },
    "kernelspec": {
      "name": "python3",
      "display_name": "Python 3"
    }
  },
  "cells": [
    {
      "cell_type": "markdown",
      "metadata": {
        "id": "view-in-github",
        "colab_type": "text"
      },
      "source": [
        "<a href=\"https://colab.research.google.com/github/Shubham1976/minor_project/blob/main/Deployment_model.ipynb\" target=\"_parent\"><img src=\"https://colab.research.google.com/assets/colab-badge.svg\" alt=\"Open In Colab\"/></a>"
      ]
    },
    {
      "cell_type": "code",
      "metadata": {
        "colab": {
          "base_uri": "https://localhost:8080/"
        },
        "id": "rSTVT8TxjNwB",
        "outputId": "de60d30f-6f0d-4a65-ae90-9e51f195aabf"
      },
      "source": [
        "pip install anvil-uplink\n"
      ],
      "execution_count": null,
      "outputs": [
        {
          "output_type": "stream",
          "text": [
            "Requirement already satisfied: anvil-uplink in /usr/local/lib/python3.6/dist-packages (0.3.34)\n",
            "Requirement already satisfied: future in /usr/local/lib/python3.6/dist-packages (from anvil-uplink) (0.16.0)\n",
            "Requirement already satisfied: six in /usr/local/lib/python3.6/dist-packages (from anvil-uplink) (1.15.0)\n",
            "Requirement already satisfied: ws4py in /usr/local/lib/python3.6/dist-packages (from anvil-uplink) (0.5.1)\n",
            "Requirement already satisfied: argparse in /usr/local/lib/python3.6/dist-packages (from anvil-uplink) (1.4.0)\n"
          ],
          "name": "stdout"
        }
      ]
    },
    {
      "cell_type": "code",
      "metadata": {
        "id": "6Upza2hskaH6"
      },
      "source": [
        "import pickle\n",
        "with open('save1_model_sh','rb') as file:\n",
        "    modelsave2= pickle.load(file)"
      ],
      "execution_count": null,
      "outputs": []
    },
    {
      "cell_type": "code",
      "metadata": {
        "colab": {
          "base_uri": "https://localhost:8080/"
        },
        "id": "r1Hy3epE7VTo",
        "outputId": "b612bd58-b025-4f74-8fb1-ed2bc3bc6dd0"
      },
      "source": [
        "modelsave2.predict([[1,0,0,1,0,5849,0,161,360,1,2]])"
      ],
      "execution_count": null,
      "outputs": [
        {
          "output_type": "execute_result",
          "data": {
            "text/plain": [
              "array([1])"
            ]
          },
          "metadata": {
            "tags": []
          },
          "execution_count": 18
        }
      ]
    },
    {
      "cell_type": "code",
      "metadata": {
        "id": "9g2ADmrjkZ_K",
        "colab": {
          "base_uri": "https://localhost:8080/"
        },
        "outputId": "d24abc0d-72b5-41e3-a5f3-113482ad03b3"
      },
      "source": [
        "import anvil.server\n",
        "anvil.server.connect(\"Z6QRSECPN4FPSCYCIFQRMRXI-HAVBGKAJO3V67WPO\")"
      ],
      "execution_count": null,
      "outputs": [
        {
          "output_type": "stream",
          "text": [
            "Connecting to wss://anvil.works/uplink\n",
            "Anvil websocket open\n",
            "Connected to \"Default environment (dev)\" as SERVER\n"
          ],
          "name": "stdout"
        }
      ]
    },
    {
      "cell_type": "code",
      "metadata": {
        "id": "6i3KQIk9wQnS"
      },
      "source": [
        "@anvil.server.callable\n",
        "def get_data(a,b,c,d,e,f,g,h,i,j,k):\n",
        "\n",
        "  score=modelsave2.predict([[int(a),int(b),int(c),int(d),int(e),int(f),int(g),int(h),int(i),int(j),int(k)]])\n",
        "  if (score==1):\n",
        "    return ('your chance of getting loan is high[1]')\n",
        "  else:\n",
        "    return('your chance of getting loan is low[0]')\n",
        "\n",
        " "
      ],
      "execution_count": null,
      "outputs": []
    },
    {
      "cell_type": "code",
      "metadata": {
        "id": "DavOYInhwQj1"
      },
      "source": [
        ""
      ],
      "execution_count": null,
      "outputs": []
    },
    {
      "cell_type": "code",
      "metadata": {
        "id": "Oq5Z-q_GwQgG"
      },
      "source": [
        ""
      ],
      "execution_count": null,
      "outputs": []
    }
  ]
}